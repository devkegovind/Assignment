{
  "nbformat": 4,
  "nbformat_minor": 0,
  "metadata": {
    "colab": {
      "provenance": [],
      "collapsed_sections": []
    },
    "kernelspec": {
      "name": "python3",
      "display_name": "Python 3"
    },
    "language_info": {
      "name": "python"
    }
  },
  "cells": [
    {
      "cell_type": "markdown",
      "source": [
        "# **ASSIGNMENT**\n",
        " ## **FSDS Batch 17 September 2022**"
      ],
      "metadata": {
        "id": "lpjFocqUvojU"
      }
    },
    {
      "cell_type": "markdown",
      "source": [
        "##**1. Write a function which will try to find out len of a string without using an inbuilt len function.**\n"
      ],
      "metadata": {
        "id": "CRcXhBkfvour"
      }
    },
    {
      "cell_type": "code",
      "source": [
        "def findLength(string):\n",
        "  # initialize the count is zero\n",
        "  count = 0\n",
        " # counting character in string\n",
        "  for i in string:\n",
        "    count = count + 1\n",
        "  # returing a count\n",
        "  return count\n",
        "\n",
        "\n",
        "#string = \"govind\"\n",
        "findLength(\"govind\")"
      ],
      "metadata": {
        "colab": {
          "base_uri": "https://localhost:8080/"
        },
        "id": "8a6CmDzowpX0",
        "outputId": "4bdc5b5f-18a8-4ac4-835f-c16ab8a3e1c9"
      },
      "execution_count": 2,
      "outputs": [
        {
          "output_type": "execute_result",
          "data": {
            "text/plain": [
              "6"
            ]
          },
          "metadata": {},
          "execution_count": 2
        }
      ]
    },
    {
      "cell_type": "markdown",
      "source": [
        "##**2. Write a function which  will be able to print an index of list element without using an index function.**"
      ],
      "metadata": {
        "id": "Ua4p1FkJwCor"
      }
    },
    {
      "cell_type": "code",
      "source": [
        "l = [1, 2, 3, 4, 5]\n",
        "\n",
        "for i in range(len(l)):\n",
        "  print(i, \"====\", l[i])"
      ],
      "metadata": {
        "colab": {
          "base_uri": "https://localhost:8080/"
        },
        "id": "3AIAxK-cySXQ",
        "outputId": "3c7357aa-ea17-46bb-bbdf-038d56360f13"
      },
      "execution_count": 3,
      "outputs": [
        {
          "output_type": "stream",
          "name": "stdout",
          "text": [
            "0 ==== 1\n",
            "1 ==== 2\n",
            "2 ==== 3\n",
            "3 ==== 4\n",
            "4 ==== 5\n"
          ]
        }
      ]
    },
    {
      "cell_type": "markdown",
      "source": [
        "##**3. Write a function which will be able to print an ip address of your system.**"
      ],
      "metadata": {
        "id": "HQxY8ToUwDLq"
      }
    },
    {
      "cell_type": "code",
      "source": [],
      "metadata": {
        "id": "-wWVeXHg0UOc"
      },
      "execution_count": null,
      "outputs": []
    },
    {
      "cell_type": "markdown",
      "source": [
        "##**4. Write a function which will shutdown your system.**"
      ],
      "metadata": {
        "id": "ziE6Ck5mwFFj"
      }
    },
    {
      "cell_type": "markdown",
      "source": [
        "##**5.Write a function which will take input as a list with any kind of numeric value and give an out as a multiplication of all the numeric data l = [3.5, 6.56, 4,5,\"sudh\" , \"ineuron\" , 'fsda bootcamp 2.0']**\n"
      ],
      "metadata": {
        "id": "igyCfICkwFBb"
      }
    },
    {
      "cell_type": "code",
      "source": [
        "def multiplyList(l):\n",
        "\n",
        "  result = 1\n",
        "  for i in l:\n",
        "    if type(i) == int or type(i) == float:\n",
        "      result = result * i\n",
        "  return result\n",
        "\n",
        "l = [3.5, 6.56, 4, 5,  \"sudh\", \"ineuron\", \"fsda bootcamp 2.0\"]\n",
        "multiplyList(l)"
      ],
      "metadata": {
        "colab": {
          "base_uri": "https://localhost:8080/"
        },
        "id": "Fl-MOz7lwiN8",
        "outputId": "d8fc3405-1e05-493c-e178-2603ffd1389f"
      },
      "execution_count": 6,
      "outputs": [
        {
          "output_type": "execute_result",
          "data": {
            "text/plain": [
              "459.19999999999993"
            ]
          },
          "metadata": {},
          "execution_count": 6
        }
      ]
    },
    {
      "cell_type": "markdown",
      "source": [
        "##**6. Write a function which will be able to read all the mails.** \n"
      ],
      "metadata": {
        "id": "yq364DDpwE7L"
      }
    },
    {
      "cell_type": "markdown",
      "source": [
        "##**7. Write a function which will be able to send a mail to anyone.**"
      ],
      "metadata": {
        "id": "GIWDwtyvwEx6"
      }
    },
    {
      "cell_type": "markdown",
      "source": [
        "##**8. Write a function which will be able to read a doc/word file from your system.**"
      ],
      "metadata": {
        "id": "2larg_nTwEei"
      }
    },
    {
      "cell_type": "code",
      "source": [],
      "metadata": {
        "id": "bU97kdy03Zqx"
      },
      "execution_count": null,
      "outputs": []
    }
  ]
}